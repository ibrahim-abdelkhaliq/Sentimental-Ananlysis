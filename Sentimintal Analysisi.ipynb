{
 "cells": [
  {
   "cell_type": "code",
   "execution_count": 5,
   "id": "c88d999e",
   "metadata": {
    "scrolled": true
   },
   "outputs": [],
   "source": [
    "from textblob import TextBlob\n",
    "import nltk\n",
    "from newspaper import Article"
   ]
  },
  {
   "cell_type": "code",
   "execution_count": 6,
   "id": "28fc67e4",
   "metadata": {},
   "outputs": [],
   "source": [
    "url = 'https://everythingcomputerscience.com'\n",
    "article = Article(url)"
   ]
  },
  {
   "cell_type": "code",
   "execution_count": 7,
   "id": "52c6f696",
   "metadata": {},
   "outputs": [
    {
     "name": "stderr",
     "output_type": "stream",
     "text": [
      "[nltk_data] Downloading package punkt to\n",
      "[nltk_data]     C:\\Users\\Lenovo\\AppData\\Roaming\\nltk_data...\n",
      "[nltk_data]   Unzipping tokenizers\\punkt.zip.\n"
     ]
    }
   ],
   "source": [
    "article.download()\n",
    "article.parse()\n",
    "nltk.download('punkt')\n",
    "article.nlp()"
   ]
  },
  {
   "cell_type": "code",
   "execution_count": 8,
   "id": "688e5156",
   "metadata": {},
   "outputs": [
    {
     "name": "stdout",
     "output_type": "stream",
     "text": [
      "Computer Science (CS)Computer Science (CS) is the study of the principles and use of computers.\n",
      "Simply put it's the science that deals with the theory and methods of processing information in digital computers, the design of computer hardware and software, and the applications of computers.\n",
      "A computer is simply a tool for a computer scientist, like a telescope for an astronomer.\n",
      "Teach yourself !\n"
     ]
    }
   ],
   "source": [
    "text = article.summary\n",
    "print(text)"
   ]
  },
  {
   "cell_type": "code",
   "execution_count": 9,
   "id": "e9612e67",
   "metadata": {},
   "outputs": [
    {
     "name": "stdout",
     "output_type": "stream",
     "text": [
      "0.0\n"
     ]
    }
   ],
   "source": [
    "# Create a TextBlob object\n",
    "obj = TextBlob(text)\n",
    "\n",
    "#This returns a value between -1 and 1\n",
    "sentiment = obj.sentiment.polarity\n",
    "print(sentiment)"
   ]
  },
  {
   "cell_type": "code",
   "execution_count": 10,
   "id": "79d79628",
   "metadata": {},
   "outputs": [
    {
     "name": "stdout",
     "output_type": "stream",
     "text": [
      "The text is neutral\n"
     ]
    }
   ],
   "source": [
    "if sentiment == 0:\n",
    "    print('The text is neutral')\n",
    "elif sentiment > 0:\n",
    "    print('The text is positive')\n",
    "else:\n",
    "    print('The text is negative')\n",
    "     "
   ]
  },
  {
   "cell_type": "code",
   "execution_count": null,
   "id": "f3f8cf40",
   "metadata": {},
   "outputs": [],
   "source": []
  }
 ],
 "metadata": {
  "kernelspec": {
   "display_name": "Python 3 (ipykernel)",
   "language": "python",
   "name": "python3"
  },
  "language_info": {
   "codemirror_mode": {
    "name": "ipython",
    "version": 3
   },
   "file_extension": ".py",
   "mimetype": "text/x-python",
   "name": "python",
   "nbconvert_exporter": "python",
   "pygments_lexer": "ipython3",
   "version": "3.8.5"
  }
 },
 "nbformat": 4,
 "nbformat_minor": 5
}
